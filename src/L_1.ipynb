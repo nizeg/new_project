{
 "cells": [
  {
   "cell_type": "markdown",
   "metadata": {},
   "source": [
    "##Initial Import##"
   ]
  },
  {
   "cell_type": "code",
   "execution_count": null,
   "metadata": {},
   "outputs": [
    {
     "name": "stdout",
     "output_type": "stream",
     "text": [
      "Inside load_env function\n",
      ".env file not found.\n"
     ]
    }
   ],
   "source": [
    "# Warning control\n",
    "import warnings\n",
    "warnings.filterwarnings('ignore')\n",
    "\n",
    "# Load environment variables\n",
    "from helper import load_env\n",
    "load_env()\n",
    "\n",
    "import os\n",
    "import yaml\n",
    "from crewai import Agent, Task, Crew"
   ]
  },
  {
   "cell_type": "code",
   "execution_count": null,
   "metadata": {},
   "outputs": [
    {
     "name": "stdout",
     "output_type": "stream",
     "text": [
      "Inside load_env function\n",
      "Current working directory: /Users/nize/Documents/Coding/new_project/src\n",
      "Checking if ../.env exists: True\n",
      "Absolute path of .env file: /Users/nize/Documents/Coding/new_project/.env\n",
      "Checking if absolute path exists: True\n",
      "Environment variables loaded.\n"
     ]
    }
   ],
   "source": [
    "import os\n",
    "\n",
    "def load_env(env_file='../.env'):\n",
    "    print(\"Inside load_env function\")\n",
    "    print(f\"Current working directory: {os.getcwd()}\")\n",
    "    print(f\"Checking if {env_file} exists: {os.path.exists(env_file)}\")\n",
    "\n",
    "    # Print the absolute path of the .env file\n",
    "    abs_path = os.path.abspath(env_file)\n",
    "    print(f\"Absolute path of .env file: {abs_path}\")\n",
    "    print(f\"Checking if absolute path exists: {os.path.exists(abs_path)}\")\n",
    "\n",
    "    if os.path.exists(env_file):\n",
    "        try:\n",
    "            with open(env_file, 'r', encoding='utf-8') as f:\n",
    "                for line in f:\n",
    "                    line = line.strip()\n",
    "                    if line and not line.startswith('#'):\n",
    "                        try:\n",
    "                            key, value = line.split('=', 1)\n",
    "                            os.environ[key.strip()] = value.strip()\n",
    "                        except ValueError:\n",
    "                            print(f\"Skipping malformed line: {line}\")\n",
    "            print(\"Environment variables loaded.\")\n",
    "        except Exception as e:\n",
    "            print(f\"Error loading environment file: {str(e)}\")\n",
    "    else:\n",
    "        print(f\"{env_file} file not found.\")\n",
    "\n",
    "# Example usage\n",
    "load_env()"
   ]
  },
  {
   "cell_type": "code",
   "execution_count": null,
   "metadata": {},
   "outputs": [],
   "source": [
    "os.environ['OPENAI_MODEL_NAME'] = 'gpt-4o-mini'"
   ]
  },
  {
   "cell_type": "markdown",
   "metadata": {},
   "source": [
    "## Loading Tasks and Agents YAML files"
   ]
  },
  {
   "cell_type": "code",
   "execution_count": null,
   "metadata": {},
   "outputs": [],
   "source": [
    "# Define file paths for YAML configurations\n",
    "files = {\n",
    "    'agents': '/Users/nize/Documents/Coding/new_project/src/new_project/config/agents.yaml',\n",
    "    'tasks': '/Users/nize/Documents/Coding/new_project/src/new_project/config/tasks.yaml'\n",
    "}\n",
    "\n",
    "# Load configurations from YAML files\n",
    "configs = {}\n",
    "for config_type, file_path in files.items():\n",
    "    if os.path.exists(file_path):\n",
    "        with open(file_path, 'r') as file:\n",
    "            configs[config_type] = yaml.safe_load(file)\n",
    "    else:\n",
    "        print(f\"File not found: {file_path}\")\n",
    "        configs[config_type] = None\n",
    "\n",
    "# Assign loaded configurations to specific variables\n",
    "agents_config = configs['agents']\n",
    "tasks_config = configs['tasks']"
   ]
  },
  {
   "cell_type": "code",
   "execution_count": 24,
   "metadata": {},
   "outputs": [],
   "source": [
    "from crewai_tools import SerperDevTool, ScrapeWebsiteTool, WebsiteSearchTool"
   ]
  },
  {
   "cell_type": "markdown",
   "metadata": {},
   "source": [
    "## Creating Structured Output"
   ]
  },
  {
   "cell_type": "code",
   "execution_count": 25,
   "metadata": {},
   "outputs": [],
   "source": [
    "from pydantic import BaseModel, Field\n",
    "from typing import List\n",
    "\n",
    "class SocialMediaPost(BaseModel):\n",
    "    platform: str = Field(..., description=\"The social media platform where the post will be published (e.g., Twitter, LinkedIn).\")\n",
    "    content: str = Field(..., description=\"The content of the social media post, including any hashtags or mentions.\")\n",
    "\n",
    "class ContentOutput(BaseModel):\n",
    "    article: str = Field(..., description=\"The article, formatted in markdown.\")\n",
    "    social_media_posts: List[SocialMediaPost] = Field(..., description=\"A list of social media posts related to the article.\")"
   ]
  },
  {
   "cell_type": "code",
   "execution_count": null,
   "metadata": {},
   "outputs": [],
   "source": []
  }
 ],
 "metadata": {
  "kernelspec": {
   "display_name": "crewai-env",
   "language": "python",
   "name": "python3"
  },
  "language_info": {
   "codemirror_mode": {
    "name": "ipython",
    "version": 3
   },
   "file_extension": ".py",
   "mimetype": "text/x-python",
   "name": "python",
   "nbconvert_exporter": "python",
   "pygments_lexer": "ipython3",
   "version": "3.11.5"
  }
 },
 "nbformat": 4,
 "nbformat_minor": 2
}
